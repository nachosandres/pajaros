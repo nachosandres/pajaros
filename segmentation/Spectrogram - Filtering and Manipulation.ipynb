{
 "cells": [
  {
   "cell_type": "code",
   "execution_count": null,
   "metadata": {
    "collapsed": true
   },
   "outputs": [],
   "source": [
    "%matplotlib inline\n",
    "import matplotlib.pyplot as plt\n",
    "import numpy as np"
   ]
  },
  {
   "cell_type": "code",
   "execution_count": null,
   "metadata": {
    "collapsed": false
   },
   "outputs": [],
   "source": [
    "from scipy.io import wavfile\n",
    "\n",
    "wav_file_path = \"../data/LIFECLEF2014_BIRDAMAZON_XC_WAV_RN9999.wav\"\n",
    "sample_rate, wav_data = wavfile.read( wav_file_path )"
   ]
  },
  {
   "cell_type": "code",
   "execution_count": null,
   "metadata": {
    "collapsed": false
   },
   "outputs": [],
   "source": [
    "S, freqs, bins, im  = plt.specgram(wav_data, NFFT=1024, Fs=sample_rate, noverlap=512, cmap='Greys')\n",
    "\n"
   ]
  },
  {
   "cell_type": "code",
   "execution_count": null,
   "metadata": {
    "collapsed": false
   },
   "outputs": [],
   "source": [
    "from scipy.signal import decimate\n",
    "\n",
    "downsample_factor = 4\n",
    "sample_rate_dec = sample_rate/4\n",
    "wav_data_dec = decimate( wav_data, downsample_factor )\n",
    "\n",
    "S_dec, freqs_dec, bins_dec, im_dec  = plt.specgram(wav_data_dec, NFFT=1024, Fs=sample_rate_dec, noverlap=512, cmap = 'Greys')"
   ]
  },
  {
   "cell_type": "code",
   "execution_count": null,
   "metadata": {
    "collapsed": false
   },
   "outputs": [],
   "source": [
    "import scipy.signal as sig\n",
    "%config InlineBackend.figure_format = 'svg' \n",
    "# nyquist frequency\n",
    "nyq_freq = sample_rate_dec/2 \n",
    "\n",
    "# design of 1000 Hz highpass filter\n",
    "N = 10                     # order of the niquist filter\n",
    "crit_freq = 1000/nyq_freq  # critical frequency (normalized)\n",
    "rp = 1                     # passband ripple (dB)\n",
    "rs = 80                    # stopband min attenuation (dB)\n",
    "btype = 'highpass'\n",
    "ftype = 'ellip'\n",
    "b, a = sig.iirfilter(N, crit_freq, rp, rs, btype, ftype)\n",
    "\n",
    "# apply previous filter\n",
    "wav_data_fil = sig.lfilter(b, a, wav_data_dec)\n",
    "print len(wav_data_dec)/1024\n",
    "S_fil, freqs_fil, bins_fil, im_fil = plt.specgram(wav_data_fil, NFFT=1024, Fs=sample_rate_dec, noverlap=512, cmap = 'Greys')"
   ]
  },
  {
   "cell_type": "code",
   "execution_count": null,
   "metadata": {
    "collapsed": false
   },
   "outputs": [],
   "source": [
    "# find coordinates of max (freq_bin, time_bin)\n",
    "max_coord = np.unravel_index(S_fil.argmax(), S_fil.shape)\n",
    "# normalized maximum frequency\n",
    "f_0 =  float(max_coord[0]) / S_fil.shape[0]\n",
    "\n",
    "# design of f_0 adaptive highpass filter\n",
    "N = 10                     # order of the niquist filter\n",
    "crit_freq = 0.4*f_0        # critical frequency (normalized)\n",
    "rp = 1                     # passband ripple (dB)\n",
    "rs = 80                    # stopband min attenuation (dB)\n",
    "btype = 'highpass'\n",
    "ftype = 'ellip'\n",
    "b, a = sig.iirfilter(N, crit_freq, rp, rs, btype, ftype)\n",
    "\n",
    "# apply previous filter\n",
    "wav_data_fil = sig.lfilter(b, a, wav_data_dec)\n",
    "print len(wav_data_dec)/1024\n",
    "S_fil, freqs_fil, bins_fil, im_fil = plt.specgram(wav_data_fil, NFFT=1024, Fs=sample_rate_dec, noverlap=512, cmap = 'Greys')"
   ]
  },
  {
   "cell_type": "code",
   "execution_count": null,
   "metadata": {
    "collapsed": false
   },
   "outputs": [],
   "source": [
    "from IPython.display import Audio\n",
    "Audio(data = wav_data_fil, rate=sample_rate_dec)\n"
   ]
  }
 ],
 "metadata": {
  "kernelspec": {
   "display_name": "Python 2",
   "language": "python",
   "name": "python2"
  },
  "language_info": {
   "codemirror_mode": {
    "name": "ipython",
    "version": 2
   },
   "file_extension": ".py",
   "mimetype": "text/x-python",
   "name": "python",
   "nbconvert_exporter": "python",
   "pygments_lexer": "ipython2",
   "version": "2.7.9"
  }
 },
 "nbformat": 4,
 "nbformat_minor": 0
}
